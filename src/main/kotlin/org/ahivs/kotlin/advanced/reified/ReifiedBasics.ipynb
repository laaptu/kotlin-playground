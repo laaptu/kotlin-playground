{
 "cells": [
  {
   "cell_type": "markdown",
   "source": [
    "### What is reified\n",
    "In Kotlin we have generics. Generics in simple term means for a function, class we only supply the ``Type``"
   ],
   "metadata": {
    "collapsed": false
   }
  },
  {
   "cell_type": "code",
   "outputs": [],
   "source": [
    "open class Actor\n",
    "class Hero: Actor()\n",
    "class Heroine: Actor()\n",
    "\n",
    "\n",
    "fun <T : Actor> getActor() {\n",
    "    println(\"Actor is guessed \")\n",
    "}\n",
    "\n",
    "fun noReified() {\n",
    "    getActor<Hero>()\n",
    "    getActor<Heroine>()\n",
    "}"
   ],
   "metadata": {
    "collapsed": false
   },
   "execution_count": null
  },
  {
   "cell_type": "markdown",
   "source": [
    "In the above function, when we call this function, we cannot use the ``T`` or type parameter. What does that mean? Meaning once we call the function the type ``T`` is erased. For instance if we being to look upon the bytecode we will see the following"
   ],
   "metadata": {
    "collapsed": false
   }
  },
  {
   "cell_type": "code",
   "outputs": [],
   "source": [
    "  public static final void getActor() {\n",
    "      String var0 = \"Actor is guessed \";\n",
    "      System.out.println(var0);\n",
    "   }\n",
    " \n",
    " public static final void noReified() {\n",
    "      getActor();\n",
    "      getActor();\n",
    "   }"
   ],
   "metadata": {
    "collapsed": false
   }
  },
  {
   "cell_type": "markdown",
   "source": [
    "When we call the function, though we passed ``Hero`` or ``Heroine``, we couldn't know the type of it. So in the bytecode we saw that the function  ``getActor()`` doesn't  know what type is being used to call the function. Meaning the caller ``noReified()`` knows the type in which it is being called but the function once being called doesn't know what is the type of it. If in cases we do want to know the passed type ``T``, reified will help us  "
   ],
   "metadata": {
    "collapsed": false
   }
  },
  {
   "cell_type": "code",
   "outputs": [],
   "source": [
    "inline fun <reified T : Actor> getActorReified() {\n",
    "    println(\"Actor T is guessed = ${T::class.java}\")\n",
    "}\n",
    "\n",
    "fun withReified() {\n",
    "    getActorReified<Hero>()\n",
    "    getActorReified<Heroine>()\n",
    "}"
   ],
   "metadata": {
    "collapsed": false
   }
  },
  {
   "cell_type": "markdown",
   "source": [
    "Now if we see the bytecode of the same we will see"
   ],
   "metadata": {
    "collapsed": false
   }
  },
  {
   "cell_type": "code",
   "outputs": [],
   "source": [
    "public static final void getActorReified() {\n",
    "      int $i$f$getActorReified = 0;\n",
    "      StringBuilder var10000 = (new StringBuilder()).append(\"Actor T is guessed = \");\n",
    "      Intrinsics.reifiedOperationMarker(4, \"T\");\n",
    "      String var1 = var10000.append(Actor.class).toString();\n",
    "      System.out.println(var1);\n",
    "   }\n",
    "// though the above reified function doesn't make sense, but the caller site will look interesting\n",
    "public static final void withReified() {\n",
    "      int $i$f$getActorReified = false;\n",
    "      String var1 = \"Actor T is guessed = \" + Hero.class;\n",
    "      System.out.println(var1);\n",
    "      $i$f$getActorReified = false;\n",
    "      var1 = \"Actor T is guessed = \" + Heroine.class;\n",
    "      System.out.println(var1);\n",
    "   }"
   ],
   "metadata": {
    "collapsed": false
   }
  },
  {
   "cell_type": "markdown",
   "source": [
    "If you look in the caller site, we see that the actual type parameter is retained there. Meaning we called with ``Hero`` and ``Heroine``, that information is now presented to the caller. This is the reason we needed ``inline``.  ``inline`` simply means that copy the code to the caller site. But when we do with ``reified``, it will not only copy but also allows us to add information about the type ``T`` to the caller site and paste the code along with the ``T`` type. If we didn't have ``inline``, then  it wouldn't be possible to maintain the type to the called function.  So due to this both of them go hand by hand."
   ],
   "metadata": {
    "collapsed": false
   }
  },
  {
   "cell_type": "code",
   "outputs": [],
   "source": [],
   "metadata": {
    "collapsed": false
   }
  }
 ],
 "metadata": {
  "kernelspec": {
   "display_name": "Kotlin",
   "language": "kotlin",
   "name": "kotlin"
  },
  "language_info": {
   "name": "kotlin",
   "version": "1.9.0",
   "mimetype": "text/x-kotlin",
   "file_extension": ".kt",
   "pygments_lexer": "kotlin",
   "codemirror_mode": "text/x-kotlin",
   "nbconvert_exporter": ""
  }
 },
 "nbformat": 4,
 "nbformat_minor": 0
}
